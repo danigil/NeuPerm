{
 "cells": [
  {
   "cell_type": "markdown",
   "metadata": {},
   "source": [
    "# Numpy PoC"
   ]
  },
  {
   "cell_type": "markdown",
   "metadata": {},
   "source": [
    "## Init"
   ]
  },
  {
   "cell_type": "code",
   "execution_count": 81,
   "metadata": {},
   "outputs": [],
   "source": [
    "import copy\n",
    "import numpy as np\n",
    "\n",
    "rng = np.random.default_rng(seed=0)\n",
    "\n",
    "def get_random_params(input_size, output_size, dtype=np.float32):\n",
    "    W = rng.random(size=(output_size, input_size), dtype=dtype)\n",
    "    b = rng.random(size=(output_size,), dtype=dtype)\n",
    "    return W, b\n",
    "\n",
    "def relu(x):\n",
    "    return np.maximum(0, x)\n",
    "\n",
    "class NN:\n",
    "    def __init__(self, input_size=2, hidden_sizes=[3], output_size=1, activation=relu):\n",
    "        self.input_size = input_size\n",
    "        self.hidden_sizes = hidden_sizes\n",
    "        self.output_size = output_size\n",
    "\n",
    "        self.activation = activation\n",
    "        # self.activation_func = relu\n",
    "\n",
    "        params = [get_random_params(input_size, hidden_sizes[0])]\n",
    "        for i in range(1, len(hidden_sizes)):\n",
    "            params.append(get_random_params(hidden_sizes[i-1], hidden_sizes[i]))\n",
    "        params.append(get_random_params(hidden_sizes[-1], output_size))\n",
    "\n",
    "        self.Ws, self.Bs = zip(*params)\n",
    "        self.Ws = list(self.Ws)\n",
    "        self.Bs = list(self.Bs)\n",
    "\n",
    "    def compute(self, x):\n",
    "        for W, b in zip(self.Ws, self.Bs):\n",
    "            x = self.activation(np.dot(W, x) + b)\n",
    "        return x\n",
    "\n",
    "    def permute(self, indices=[[0,1,2]]):\n",
    "        permuted = copy.deepcopy(self)\n",
    "\n",
    "        for i, perm_indices in enumerate(indices):\n",
    "            permuted.Ws[i] = permuted.Ws[i][perm_indices,...]\n",
    "            permuted.Bs[i] = permuted.Bs[i][perm_indices,...]\n",
    "            permuted.Ws[i+1] = permuted.Ws[i+1][:,perm_indices]\n",
    "\n",
    "        return permuted\n",
    "\n",
    "    def __repr__(self):\n",
    "        ret = f\"NN(input_size={self.input_size}, hidden_sizes={self.hidden_sizes}, output_size={self.output_size})\"\n",
    "        ret += \"\\n\"\n",
    "        for i, (W, b) in enumerate(zip(self.Ws, self.Bs)):\n",
    "            ret += f\"Layer {i}:\\nW_{i} {W.shape}:\\n{W}\\nb_{i} {b.shape}:\\n{b}\\n\"\n",
    "        return ret\n"
   ]
  },
  {
   "cell_type": "markdown",
   "metadata": {},
   "source": [
    "## Define Net Params & Init Net"
   ]
  },
  {
   "cell_type": "code",
   "execution_count": 83,
   "metadata": {},
   "outputs": [],
   "source": [
    "input_size = 3\n",
    "hidden_sizes = [3, 3]\n",
    "output_size = 3\n",
    "\n",
    "net = NN(input_size=input_size, hidden_sizes=hidden_sizes, output_size=output_size)"
   ]
  },
  {
   "cell_type": "markdown",
   "metadata": {},
   "source": [
    "## Forward Pass"
   ]
  },
  {
   "cell_type": "code",
   "execution_count": 84,
   "metadata": {},
   "outputs": [
    {
     "data": {
      "text/plain": [
       "array([6.63380037, 4.14094132, 6.35292454])"
      ]
     },
     "execution_count": 84,
     "metadata": {},
     "output_type": "execute_result"
    }
   ],
   "source": [
    "x = rng.random(size=(input_size,))\n",
    "y = net.compute(x)\n",
    "y"
   ]
  },
  {
   "cell_type": "markdown",
   "metadata": {},
   "source": [
    "## Change Order of Neurons within Each Layer"
   ]
  },
  {
   "cell_type": "code",
   "execution_count": 90,
   "metadata": {},
   "outputs": [],
   "source": [
    "net_permuted = net.permute(indices=[[1,2,0], [2,1,0]])"
   ]
  },
  {
   "cell_type": "code",
   "execution_count": 91,
   "metadata": {},
   "outputs": [
    {
     "data": {
      "text/plain": [
       "array([6.63380037, 4.14094132, 6.35292454])"
      ]
     },
     "execution_count": 91,
     "metadata": {},
     "output_type": "execute_result"
    }
   ],
   "source": [
    "y_permuted = net_permuted.compute(x)\n",
    "y_permuted"
   ]
  },
  {
   "cell_type": "markdown",
   "metadata": {},
   "source": [
    "### Assert Equality"
   ]
  },
  {
   "cell_type": "code",
   "execution_count": 87,
   "metadata": {},
   "outputs": [
    {
     "data": {
      "text/plain": [
       "True"
      ]
     },
     "execution_count": 87,
     "metadata": {},
     "output_type": "execute_result"
    }
   ],
   "source": [
    "np.allclose(y, y_permuted)"
   ]
  },
  {
   "cell_type": "markdown",
   "metadata": {},
   "source": [
    "## Inspect Nets"
   ]
  },
  {
   "cell_type": "code",
   "execution_count": 88,
   "metadata": {},
   "outputs": [
    {
     "data": {
      "text/plain": [
       "NN(input_size=3, hidden_sizes=[3, 3], output_size=3)\n",
       "Layer 0:\n",
       "W_0 (3, 3):\n",
       "[[0.08039963 0.29971188 0.48106134]\n",
       " [0.42268717 0.40323848 0.02831966]\n",
       " [0.00535262 0.12428325 0.00828427]]\n",
       "b_0 (3,):\n",
       "[0.6706244 0.5256177 0.6471895]\n",
       "Layer 1:\n",
       "W_1 (3, 3):\n",
       "[[0.25729978 0.61538506 0.7640549 ]\n",
       " [0.38367754 0.4609216  0.9972099 ]\n",
       " [0.80498916 0.9808353  0.37952334]]\n",
       "b_1 (3,):\n",
       "[0.6855419  0.9501003  0.65045923]\n",
       "Layer 2:\n",
       "W_2 (3, 3):\n",
       "[[0.84031135 0.6884467  0.704001  ]\n",
       " [0.38892138 0.8751561  0.13509649]\n",
       " [0.57890344 0.7214883  0.84548056]]\n",
       "b_2 (3,):\n",
       "[0.52535427 0.37541664 0.31024182]"
      ]
     },
     "execution_count": 88,
     "metadata": {},
     "output_type": "execute_result"
    }
   ],
   "source": [
    "net"
   ]
  },
  {
   "cell_type": "code",
   "execution_count": 89,
   "metadata": {},
   "outputs": [
    {
     "data": {
      "text/plain": [
       "NN(input_size=3, hidden_sizes=[3, 3], output_size=3)\n",
       "Layer 0:\n",
       "W_0 (3, 3):\n",
       "[[0.42268717 0.40323848 0.02831966]\n",
       " [0.00535262 0.12428325 0.00828427]\n",
       " [0.08039963 0.29971188 0.48106134]]\n",
       "b_0 (3,):\n",
       "[0.5256177 0.6471895 0.6706244]\n",
       "Layer 1:\n",
       "W_1 (3, 3):\n",
       "[[0.61538506 0.7640549  0.25729978]\n",
       " [0.4609216  0.9972099  0.38367754]\n",
       " [0.9808353  0.37952334 0.80498916]]\n",
       "b_1 (3,):\n",
       "[0.6855419  0.9501003  0.65045923]\n",
       "Layer 2:\n",
       "W_2 (3, 3):\n",
       "[[0.84031135 0.6884467  0.704001  ]\n",
       " [0.38892138 0.8751561  0.13509649]\n",
       " [0.57890344 0.7214883  0.84548056]]\n",
       "b_2 (3,):\n",
       "[0.52535427 0.37541664 0.31024182]"
      ]
     },
     "execution_count": 89,
     "metadata": {},
     "output_type": "execute_result"
    }
   ],
   "source": [
    "net_permuted"
   ]
  }
 ],
 "metadata": {
  "kernelspec": {
   "display_name": "Python 3",
   "language": "python",
   "name": "python3"
  },
  "language_info": {
   "codemirror_mode": {
    "name": "ipython",
    "version": 3
   },
   "file_extension": ".py",
   "mimetype": "text/x-python",
   "name": "python",
   "nbconvert_exporter": "python",
   "pygments_lexer": "ipython3",
   "version": "3.8.20"
  }
 },
 "nbformat": 4,
 "nbformat_minor": 2
}
