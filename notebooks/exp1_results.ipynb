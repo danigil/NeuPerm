{
 "cells": [
  {
   "cell_type": "code",
   "execution_count": null,
   "id": "1b586f0f",
   "metadata": {},
   "outputs": [],
   "source": [
    "import os\n",
    "import pandas as pd\n",
    "from neu_perm.config import RESULTS_DIR\n",
    "\n",
    "# df = pd.read_csv('llama-3.2-1b_squad.csv')\n",
    "\n",
    "def ret_dfs(paths, base_path=None):\n",
    "    if base_path is None:\n",
    "        base_path = RESULTS_DIR\n",
    "\n",
    "    dfs = []\n",
    "    for path in paths:\n",
    "        df = pd.read_csv(os.path.join(base_path, path))\n",
    "        dfs.append(df)\n",
    "\n",
    "    df = pd.concat(dfs, ignore_index=True)\n",
    "    return df\n",
    "\n",
    "paths = [\n",
    "    # 'llama-3.2-1b_squad.csv',\n",
    "\n",
    "    'densenet121_imagenet12.csv',\n",
    "    'resnet50_imagenet12.csv',\n",
    "    'resnet101_imagenet12.csv',\n",
    "]\n",
    "df = ret_dfs(paths)\n",
    "\n",
    "\n",
    "df.drop(columns=['dataset',], inplace=True)\n",
    "# df.drop(columns=['model_name', 'dataset',], inplace=True)\n",
    "\n",
    "df_original = df[df['method'] == 'original'].copy()\n",
    "df_noise = df[df['method'] == 'noise'].copy()\n",
    "df_prune = df[df['method'] == 'prune'].copy()\n",
    "df_neuperm = df[df['method'] == 'neuperm'].copy()\n",
    "\n",
    "df_prune['amount'] = df_prune['method_kwargs'].apply(lambda x: eval(x)['amount'])\n",
    "df_prune.drop(columns=['method_kwargs'], inplace=True)\n",
    "\n",
    "df_noise['eps'] = df_noise['method_kwargs'].apply(lambda x: eval(x)['eps'])\n",
    "df_noise.drop(columns=['method_kwargs'], inplace=True)\n",
    "# df_noise"
   ]
  },
  {
   "cell_type": "code",
   "execution_count": null,
   "id": "504ae909",
   "metadata": {},
   "outputs": [
    {
     "data": {
      "application/vnd.microsoft.datawrangler.viewer.v0+json": {
       "columns": [
        {
         "name": "index",
         "rawType": "int64",
         "type": "integer"
        },
        {
         "name": "model_name",
         "rawType": "object",
         "type": "string"
        },
        {
         "name": "eps",
         "rawType": "float64",
         "type": "float"
        },
        {
         "name": "mean",
         "rawType": "float64",
         "type": "float"
        },
        {
         "name": "std",
         "rawType": "float64",
         "type": "float"
        }
       ],
       "conversionMethod": "pd.DataFrame",
       "ref": "4803ff05-ce8a-43ad-92ac-34101971501c",
       "rows": [
        [
         "0",
         "densenet121",
         "0.0001",
         "0.744262",
         "0.0002958152576637499"
        ],
        [
         "1",
         "densenet121",
         "0.001",
         "0.741466",
         "0.0014248290345784706"
        ],
        [
         "2",
         "densenet121",
         "0.01",
         "0.134574",
         "0.06236570143560927"
        ],
        [
         "3",
         "densenet121",
         "0.1",
         "0.001",
         "0.0"
        ],
        [
         "4",
         "resnet101",
         "0.0001",
         "0.8189299999999999",
         "0.00012481096817899105"
        ],
        [
         "5",
         "resnet101",
         "0.001",
         "0.79531",
         "0.038281471294144956"
        ],
        [
         "6",
         "resnet101",
         "0.01",
         "0.00277",
         "0.003276993879897991"
        ],
        [
         "7",
         "resnet101",
         "0.1",
         "0.001",
         "0.0"
        ],
        [
         "8",
         "resnet50",
         "0.0001",
         "0.808308",
         "0.0001050714042924953"
        ],
        [
         "9",
         "resnet50",
         "0.001",
         "0.47966999999999993",
         "0.26001815889578855"
        ],
        [
         "10",
         "resnet50",
         "0.01",
         "0.0010919999999999999",
         "0.0002778008879275467"
        ],
        [
         "11",
         "resnet50",
         "0.1",
         "0.001006",
         "6.040603354706291e-05"
        ]
       ],
       "shape": {
        "columns": 4,
        "rows": 12
       }
      },
      "text/html": [
       "<div>\n",
       "<style scoped>\n",
       "    .dataframe tbody tr th:only-of-type {\n",
       "        vertical-align: middle;\n",
       "    }\n",
       "\n",
       "    .dataframe tbody tr th {\n",
       "        vertical-align: top;\n",
       "    }\n",
       "\n",
       "    .dataframe thead th {\n",
       "        text-align: right;\n",
       "    }\n",
       "</style>\n",
       "<table border=\"1\" class=\"dataframe\">\n",
       "  <thead>\n",
       "    <tr style=\"text-align: right;\">\n",
       "      <th></th>\n",
       "      <th>model_name</th>\n",
       "      <th>eps</th>\n",
       "      <th>mean</th>\n",
       "      <th>std</th>\n",
       "    </tr>\n",
       "  </thead>\n",
       "  <tbody>\n",
       "    <tr>\n",
       "      <th>0</th>\n",
       "      <td>densenet121</td>\n",
       "      <td>0.0001</td>\n",
       "      <td>0.744262</td>\n",
       "      <td>0.000296</td>\n",
       "    </tr>\n",
       "    <tr>\n",
       "      <th>1</th>\n",
       "      <td>densenet121</td>\n",
       "      <td>0.0010</td>\n",
       "      <td>0.741466</td>\n",
       "      <td>0.001425</td>\n",
       "    </tr>\n",
       "    <tr>\n",
       "      <th>2</th>\n",
       "      <td>densenet121</td>\n",
       "      <td>0.0100</td>\n",
       "      <td>0.134574</td>\n",
       "      <td>0.062366</td>\n",
       "    </tr>\n",
       "    <tr>\n",
       "      <th>3</th>\n",
       "      <td>densenet121</td>\n",
       "      <td>0.1000</td>\n",
       "      <td>0.001000</td>\n",
       "      <td>0.000000</td>\n",
       "    </tr>\n",
       "    <tr>\n",
       "      <th>4</th>\n",
       "      <td>resnet101</td>\n",
       "      <td>0.0001</td>\n",
       "      <td>0.818930</td>\n",
       "      <td>0.000125</td>\n",
       "    </tr>\n",
       "    <tr>\n",
       "      <th>5</th>\n",
       "      <td>resnet101</td>\n",
       "      <td>0.0010</td>\n",
       "      <td>0.795310</td>\n",
       "      <td>0.038281</td>\n",
       "    </tr>\n",
       "    <tr>\n",
       "      <th>6</th>\n",
       "      <td>resnet101</td>\n",
       "      <td>0.0100</td>\n",
       "      <td>0.002770</td>\n",
       "      <td>0.003277</td>\n",
       "    </tr>\n",
       "    <tr>\n",
       "      <th>7</th>\n",
       "      <td>resnet101</td>\n",
       "      <td>0.1000</td>\n",
       "      <td>0.001000</td>\n",
       "      <td>0.000000</td>\n",
       "    </tr>\n",
       "    <tr>\n",
       "      <th>8</th>\n",
       "      <td>resnet50</td>\n",
       "      <td>0.0001</td>\n",
       "      <td>0.808308</td>\n",
       "      <td>0.000105</td>\n",
       "    </tr>\n",
       "    <tr>\n",
       "      <th>9</th>\n",
       "      <td>resnet50</td>\n",
       "      <td>0.0010</td>\n",
       "      <td>0.479670</td>\n",
       "      <td>0.260018</td>\n",
       "    </tr>\n",
       "    <tr>\n",
       "      <th>10</th>\n",
       "      <td>resnet50</td>\n",
       "      <td>0.0100</td>\n",
       "      <td>0.001092</td>\n",
       "      <td>0.000278</td>\n",
       "    </tr>\n",
       "    <tr>\n",
       "      <th>11</th>\n",
       "      <td>resnet50</td>\n",
       "      <td>0.1000</td>\n",
       "      <td>0.001006</td>\n",
       "      <td>0.000060</td>\n",
       "    </tr>\n",
       "  </tbody>\n",
       "</table>\n",
       "</div>"
      ],
      "text/plain": [
       "     model_name     eps      mean       std\n",
       "0   densenet121  0.0001  0.744262  0.000296\n",
       "1   densenet121  0.0010  0.741466  0.001425\n",
       "2   densenet121  0.0100  0.134574  0.062366\n",
       "3   densenet121  0.1000  0.001000  0.000000\n",
       "4     resnet101  0.0001  0.818930  0.000125\n",
       "5     resnet101  0.0010  0.795310  0.038281\n",
       "6     resnet101  0.0100  0.002770  0.003277\n",
       "7     resnet101  0.1000  0.001000  0.000000\n",
       "8      resnet50  0.0001  0.808308  0.000105\n",
       "9      resnet50  0.0010  0.479670  0.260018\n",
       "10     resnet50  0.0100  0.001092  0.000278\n",
       "11     resnet50  0.1000  0.001006  0.000060"
      ]
     },
     "execution_count": 7,
     "metadata": {},
     "output_type": "execute_result"
    }
   ],
   "source": [
    "df_noise.groupby(['model_name', 'eps', ])['accuracy'].agg(['mean', 'std']).reset_index()"
   ]
  },
  {
   "cell_type": "code",
   "execution_count": 8,
   "id": "ce69a78a",
   "metadata": {},
   "outputs": [
    {
     "data": {
      "application/vnd.microsoft.datawrangler.viewer.v0+json": {
       "columns": [
        {
         "name": "index",
         "rawType": "int64",
         "type": "integer"
        },
        {
         "name": "model_name",
         "rawType": "object",
         "type": "string"
        },
        {
         "name": "amount",
         "rawType": "float64",
         "type": "float"
        },
        {
         "name": "mean",
         "rawType": "float64",
         "type": "float"
        },
        {
         "name": "std",
         "rawType": "float64",
         "type": "float"
        }
       ],
       "conversionMethod": "pd.DataFrame",
       "ref": "fa48f401-a935-454c-889a-b3b7209a73e8",
       "rows": [
        [
         "0",
         "densenet121",
         "0.01",
         "0.69596",
         "0.014801795686860277"
        ],
        [
         "1",
         "densenet121",
         "0.05",
         "0.361592",
         "0.057528719938633927"
        ],
        [
         "2",
         "resnet101",
         "0.01",
         "0.725004",
         "0.03480686241405727"
        ],
        [
         "3",
         "resnet101",
         "0.05",
         "0.18970199999999998",
         "0.08677327568631561"
        ],
        [
         "4",
         "resnet50",
         "0.01",
         "0.626532",
         "0.08574597066010999"
        ],
        [
         "5",
         "resnet50",
         "0.05",
         "0.028991999999999997",
         "0.024350188135253126"
        ]
       ],
       "shape": {
        "columns": 4,
        "rows": 6
       }
      },
      "text/html": [
       "<div>\n",
       "<style scoped>\n",
       "    .dataframe tbody tr th:only-of-type {\n",
       "        vertical-align: middle;\n",
       "    }\n",
       "\n",
       "    .dataframe tbody tr th {\n",
       "        vertical-align: top;\n",
       "    }\n",
       "\n",
       "    .dataframe thead th {\n",
       "        text-align: right;\n",
       "    }\n",
       "</style>\n",
       "<table border=\"1\" class=\"dataframe\">\n",
       "  <thead>\n",
       "    <tr style=\"text-align: right;\">\n",
       "      <th></th>\n",
       "      <th>model_name</th>\n",
       "      <th>amount</th>\n",
       "      <th>mean</th>\n",
       "      <th>std</th>\n",
       "    </tr>\n",
       "  </thead>\n",
       "  <tbody>\n",
       "    <tr>\n",
       "      <th>0</th>\n",
       "      <td>densenet121</td>\n",
       "      <td>0.01</td>\n",
       "      <td>0.695960</td>\n",
       "      <td>0.014802</td>\n",
       "    </tr>\n",
       "    <tr>\n",
       "      <th>1</th>\n",
       "      <td>densenet121</td>\n",
       "      <td>0.05</td>\n",
       "      <td>0.361592</td>\n",
       "      <td>0.057529</td>\n",
       "    </tr>\n",
       "    <tr>\n",
       "      <th>2</th>\n",
       "      <td>resnet101</td>\n",
       "      <td>0.01</td>\n",
       "      <td>0.725004</td>\n",
       "      <td>0.034807</td>\n",
       "    </tr>\n",
       "    <tr>\n",
       "      <th>3</th>\n",
       "      <td>resnet101</td>\n",
       "      <td>0.05</td>\n",
       "      <td>0.189702</td>\n",
       "      <td>0.086773</td>\n",
       "    </tr>\n",
       "    <tr>\n",
       "      <th>4</th>\n",
       "      <td>resnet50</td>\n",
       "      <td>0.01</td>\n",
       "      <td>0.626532</td>\n",
       "      <td>0.085746</td>\n",
       "    </tr>\n",
       "    <tr>\n",
       "      <th>5</th>\n",
       "      <td>resnet50</td>\n",
       "      <td>0.05</td>\n",
       "      <td>0.028992</td>\n",
       "      <td>0.024350</td>\n",
       "    </tr>\n",
       "  </tbody>\n",
       "</table>\n",
       "</div>"
      ],
      "text/plain": [
       "    model_name  amount      mean       std\n",
       "0  densenet121    0.01  0.695960  0.014802\n",
       "1  densenet121    0.05  0.361592  0.057529\n",
       "2    resnet101    0.01  0.725004  0.034807\n",
       "3    resnet101    0.05  0.189702  0.086773\n",
       "4     resnet50    0.01  0.626532  0.085746\n",
       "5     resnet50    0.05  0.028992  0.024350"
      ]
     },
     "execution_count": 8,
     "metadata": {},
     "output_type": "execute_result"
    }
   ],
   "source": [
    "df_prune.groupby(['model_name', 'amount', ])['accuracy'].agg(['mean', 'std']).reset_index()"
   ]
  },
  {
   "cell_type": "code",
   "execution_count": 9,
   "id": "5d95a379",
   "metadata": {},
   "outputs": [
    {
     "data": {
      "application/vnd.microsoft.datawrangler.viewer.v0+json": {
       "columns": [
        {
         "name": "index",
         "rawType": "int64",
         "type": "integer"
        },
        {
         "name": "model_name",
         "rawType": "object",
         "type": "unknown"
        },
        {
         "name": "accuracy",
         "rawType": "float64",
         "type": "float"
        },
        {
         "name": "time",
         "rawType": "float64",
         "type": "float"
        },
        {
         "name": "method",
         "rawType": "object",
         "type": "unknown"
        },
        {
         "name": "method_kwargs",
         "rawType": "object",
         "type": "unknown"
        }
       ],
       "conversionMethod": "pd.DataFrame",
       "ref": "318dcef6-f0ba-4665-81aa-2fac62d13d23",
       "rows": [],
       "shape": {
        "columns": 5,
        "rows": 0
       }
      },
      "text/html": [
       "<div>\n",
       "<style scoped>\n",
       "    .dataframe tbody tr th:only-of-type {\n",
       "        vertical-align: middle;\n",
       "    }\n",
       "\n",
       "    .dataframe tbody tr th {\n",
       "        vertical-align: top;\n",
       "    }\n",
       "\n",
       "    .dataframe thead th {\n",
       "        text-align: right;\n",
       "    }\n",
       "</style>\n",
       "<table border=\"1\" class=\"dataframe\">\n",
       "  <thead>\n",
       "    <tr style=\"text-align: right;\">\n",
       "      <th></th>\n",
       "      <th>model_name</th>\n",
       "      <th>accuracy</th>\n",
       "      <th>time</th>\n",
       "      <th>method</th>\n",
       "      <th>method_kwargs</th>\n",
       "    </tr>\n",
       "  </thead>\n",
       "  <tbody>\n",
       "  </tbody>\n",
       "</table>\n",
       "</div>"
      ],
      "text/plain": [
       "Empty DataFrame\n",
       "Columns: [model_name, accuracy, time, method, method_kwargs]\n",
       "Index: []"
      ]
     },
     "execution_count": 9,
     "metadata": {},
     "output_type": "execute_result"
    }
   ],
   "source": [
    "df_original"
   ]
  },
  {
   "cell_type": "code",
   "execution_count": 15,
   "id": "51a01ee5",
   "metadata": {},
   "outputs": [
    {
     "data": {
      "application/vnd.microsoft.datawrangler.viewer.v0+json": {
       "columns": [
        {
         "name": "model_name",
         "rawType": "object",
         "type": "string"
        },
        {
         "name": "mean",
         "rawType": "float64",
         "type": "float"
        },
        {
         "name": "std",
         "rawType": "float64",
         "type": "float"
        }
       ],
       "conversionMethod": "pd.DataFrame",
       "ref": "dfa6614e-d4b1-402d-9bc2-21e4bd3597ee",
       "rows": [
        [
         "densenet121",
         "0.744374",
         "1.6465452046947718e-05"
        ],
        [
         "resnet101",
         "0.8190339999999999",
         "3.6575644598282894e-05"
        ],
        [
         "resnet50",
         "0.8084260000000001",
         "3.533962208185218e-05"
        ]
       ],
       "shape": {
        "columns": 2,
        "rows": 3
       }
      },
      "text/html": [
       "<div>\n",
       "<style scoped>\n",
       "    .dataframe tbody tr th:only-of-type {\n",
       "        vertical-align: middle;\n",
       "    }\n",
       "\n",
       "    .dataframe tbody tr th {\n",
       "        vertical-align: top;\n",
       "    }\n",
       "\n",
       "    .dataframe thead th {\n",
       "        text-align: right;\n",
       "    }\n",
       "</style>\n",
       "<table border=\"1\" class=\"dataframe\">\n",
       "  <thead>\n",
       "    <tr style=\"text-align: right;\">\n",
       "      <th></th>\n",
       "      <th>mean</th>\n",
       "      <th>std</th>\n",
       "    </tr>\n",
       "    <tr>\n",
       "      <th>model_name</th>\n",
       "      <th></th>\n",
       "      <th></th>\n",
       "    </tr>\n",
       "  </thead>\n",
       "  <tbody>\n",
       "    <tr>\n",
       "      <th>densenet121</th>\n",
       "      <td>0.744374</td>\n",
       "      <td>0.000016</td>\n",
       "    </tr>\n",
       "    <tr>\n",
       "      <th>resnet101</th>\n",
       "      <td>0.819034</td>\n",
       "      <td>0.000037</td>\n",
       "    </tr>\n",
       "    <tr>\n",
       "      <th>resnet50</th>\n",
       "      <td>0.808426</td>\n",
       "      <td>0.000035</td>\n",
       "    </tr>\n",
       "  </tbody>\n",
       "</table>\n",
       "</div>"
      ],
      "text/plain": [
       "                 mean       std\n",
       "model_name                     \n",
       "densenet121  0.744374  0.000016\n",
       "resnet101    0.819034  0.000037\n",
       "resnet50     0.808426  0.000035"
      ]
     },
     "execution_count": 15,
     "metadata": {},
     "output_type": "execute_result"
    }
   ],
   "source": [
    "df_neuperm.groupby(['model_name',])['accuracy'].agg(['mean', 'std'])"
   ]
  },
  {
   "cell_type": "code",
   "execution_count": null,
   "id": "0c1504ed",
   "metadata": {},
   "outputs": [],
   "source": []
  }
 ],
 "metadata": {
  "kernelspec": {
   "display_name": "Python 3",
   "language": "python",
   "name": "python3"
  },
  "language_info": {
   "codemirror_mode": {
    "name": "ipython",
    "version": 3
   },
   "file_extension": ".py",
   "mimetype": "text/x-python",
   "name": "python",
   "nbconvert_exporter": "python",
   "pygments_lexer": "ipython3",
   "version": "3.9.18"
  }
 },
 "nbformat": 4,
 "nbformat_minor": 5
}
