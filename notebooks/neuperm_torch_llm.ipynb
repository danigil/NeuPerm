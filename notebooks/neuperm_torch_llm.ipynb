{
 "cells": [
  {
   "cell_type": "markdown",
   "id": "3f344fde",
   "metadata": {},
   "source": [
    "# MHA PoC"
   ]
  },
  {
   "cell_type": "code",
   "execution_count": 124,
   "id": "a9ae2073",
   "metadata": {},
   "outputs": [
    {
     "name": "stdout",
     "output_type": "stream",
     "text": [
      "Attention output shape: torch.Size([2, 3, 64])\n"
     ]
    }
   ],
   "source": [
    "import torch\n",
    "\n",
    "embed_dim=64\n",
    "kdim=5\n",
    "vdim=6\n",
    "num_heads=16\n",
    "\n",
    "seqlen = 2\n",
    "batch_size = 3\n",
    "\n",
    "mha = torch.nn.MultiheadAttention(embed_dim=embed_dim, num_heads=num_heads, kdim=kdim, vdim=vdim, bias=False)\n",
    "\n",
    "x = torch.rand(seqlen, batch_size, embed_dim)  # (sequence_length, batch_size, embed_dim)\n",
    "y = torch.rand(seqlen, batch_size, kdim)  # (sequence_length, batch_size, kdim)\n",
    "z = torch.rand(seqlen, batch_size, vdim)  # (sequence_length, batch_size, vdim)\n",
    "\n",
    "attn_output, attn_output_weights = mha(x, y, z)\n",
    "print(\"Attention output shape:\", attn_output.shape)  # (sequence_length, batch_size, embed_dim)"
   ]
  },
  {
   "cell_type": "markdown",
   "id": "8b428e3e",
   "metadata": {},
   "source": [
    "If self-attention (kdim == vdim)\n",
    "    in_proj (3*embed_dim, embed_dim)\n",
    "else:\n",
    "    w_q (embed_dim, embed_dim)\n",
    "    w_k (embed_dim, kdim)\n",
    "    w_v (embed_dim, vdim)\n",
    "\n",
    "out_proj (embed_dim, embed_dim)"
   ]
  },
  {
   "cell_type": "code",
   "execution_count": 57,
   "id": "ec2fccc7",
   "metadata": {},
   "outputs": [
    {
     "name": "stdout",
     "output_type": "stream",
     "text": [
      "q_proj_weight: torch.Size([32, 32])\n",
      "k_proj_weight: torch.Size([32, 5])\n",
      "v_proj_weight: torch.Size([32, 6])\n",
      "out_proj.weight: torch.Size([32, 32])\n"
     ]
    }
   ],
   "source": [
    "sd = mha.state_dict()\n",
    "for k, v in sd.items():\n",
    "    print(f\"{k}: {v.shape}\")"
   ]
  },
  {
   "cell_type": "code",
   "execution_count": null,
   "id": "5b9874d3",
   "metadata": {},
   "outputs": [],
   "source": [
    "import copy\n",
    "\n",
    "# def get_perm_idxs(n_c):\n",
    "#     return torch.flip(torch.arange(0, n_c, dtype=int), dims=[0])\n",
    "\n",
    "def get_perm_idxs(n_c):\n",
    "    return torch.randperm(n_c, dtype=int)\n",
    "\n",
    "\n",
    "\n",
    "def mha_perm(sd, inplace:bool=False):\n",
    "\n",
    "    if inplace:\n",
    "        sd_perm = sd\n",
    "    else:\n",
    "        sd_perm = copy.deepcopy(sd)\n",
    "\n",
    "    q_proj_weight_key = 'q_proj_weight'\n",
    "    k_proj_weight_key = 'k_proj_weight'\n",
    "    v_proj_weight_key = 'v_proj_weight'\n",
    "\n",
    "    in_proj_bias_key = 'in_proj_bias'\n",
    "\n",
    "    out_proj_weight_key = 'out_proj.weight'\n",
    "    out_proj_bias_key = 'out_proj.bias'\n",
    "\n",
    "    embed_dim, _ = sd_perm[q_proj_weight_key].shape\n",
    "\n",
    "    params_per_head = embed_dim // num_heads\n",
    "\n",
    "    perm_idxs = [get_perm_idxs(params_per_head)+(i*params_per_head) for i in range(num_heads)]\n",
    "    perm_idxs = torch.cat(perm_idxs, dim=0)\n",
    "\n",
    "    # Permute the weights\n",
    "    sd_perm[q_proj_weight_key] = sd_perm[q_proj_weight_key][perm_idxs, ...]\n",
    "    sd_perm[k_proj_weight_key] = sd_perm[k_proj_weight_key][perm_idxs, ...]\n",
    "    sd_perm[v_proj_weight_key] = sd_perm[v_proj_weight_key][perm_idxs, ...]\n",
    "    sd_perm[out_proj_weight_key] = sd_perm[out_proj_weight_key][..., perm_idxs]\n",
    "\n",
    "    return sd_perm\n",
    "\n",
    "sd_orig = mha.state_dict()\n",
    "sd_perm = mha_perm(sd_orig, inplace=False)\n",
    "\n",
    "output_orig, attn_orig_weights = mha(x, y, z)\n",
    "\n",
    "mha.load_state_dict(sd_perm)\n",
    "output_perm, attn_perm_weights = mha(x, y, z)\n",
    "\n",
    "mha.load_state_dict(sd_orig)\n",
    "\n",
    "torch.testing.assert_close(output_orig, output_perm)\n",
    "torch.testing.assert_close(attn_orig_weights, attn_perm_weights)"
   ]
  },
  {
   "cell_type": "markdown",
   "id": "87e8890c",
   "metadata": {},
   "source": [
    "# Llama-3.2-1B / Llama-2 7B"
   ]
  },
  {
   "cell_type": "code",
   "execution_count": null,
   "id": "2d35391f",
   "metadata": {},
   "outputs": [],
   "source": [
    "from transformers import AutoTokenizer, AutoModelForCausalLM\n",
    "\n",
    "# model_id = \"meta-llama/Llama-2-7b-hf\"\n",
    "model_id = \"meta-llama/Llama-3.2-1B\"\n",
    "\n",
    "tokenizer = AutoTokenizer.from_pretrained(model_id)\n",
    "model = AutoModelForCausalLM.from_pretrained(model_id)"
   ]
  },
  {
   "cell_type": "code",
   "execution_count": 5,
   "id": "47fa756a",
   "metadata": {},
   "outputs": [
    {
     "name": "stdout",
     "output_type": "stream",
     "text": [
      "num_attention_heads: 32\n",
      "num_key_value_heads: 32\n",
      "head_dim: 128\n",
      "hidden_size: 4096\n"
     ]
    }
   ],
   "source": [
    "cfg = model.config\n",
    "\n",
    "print(f\"num_attention_heads: {cfg.num_attention_heads}\")\n",
    "print(f\"num_key_value_heads: {cfg.num_key_value_heads}\")\n",
    "print(f\"head_dim: {cfg.head_dim}\")\n",
    "print(f\"hidden_size: {cfg.hidden_size}\")"
   ]
  },
  {
   "cell_type": "code",
   "execution_count": null,
   "id": "50db405f",
   "metadata": {},
   "outputs": [],
   "source": [
    "import torch\n",
    "import copy\n",
    "\n",
    "def get_perm_idxs(n_c):\n",
    "    # return torch.flip(torch.arange(0, n_c, dtype=int), dims=[0])\n",
    "    return torch.randperm(n_c, dtype=int)\n",
    "\n",
    "def permute_llama2_layer(\n",
    "    sd,\n",
    "    layer_name=\"model.layers.0\",\n",
    "    inplace:bool=False,\n",
    "    num_heads=32,\n",
    "\n",
    "    attn_perm:bool=True,\n",
    "    mlp_perm:bool=True,\n",
    "\n",
    "    gqa:bool=True,\n",
    "):\n",
    "    if inplace:\n",
    "        sd_perm = sd\n",
    "    else:\n",
    "        sd_perm = copy.deepcopy(sd)\n",
    "\n",
    "    q_proj_weight_key = f\"{layer_name}.self_attn.q_proj.weight\"\n",
    "    k_proj_weight_key = f\"{layer_name}.self_attn.k_proj.weight\"\n",
    "    v_proj_weight_key = f\"{layer_name}.self_attn.v_proj.weight\"\n",
    "    o_proj_weight_key = f\"{layer_name}.self_attn.o_proj.weight\"\n",
    "\n",
    "    embed_dim, _ = sd_perm[q_proj_weight_key].shape\n",
    "    kv_dim, _ = sd_perm[k_proj_weight_key].shape\n",
    "    head_dim = embed_dim // num_heads\n",
    "\n",
    "    n_kv_heads = kv_dim // head_dim\n",
    "    params_per_kv_head = kv_dim // n_kv_heads\n",
    "\n",
    "    group_size = embed_dim // kv_dim\n",
    "\n",
    "    if attn_perm:\n",
    "        if gqa:\n",
    "            kv_idxs = torch.arange(kv_dim, dtype=int).reshape((n_kv_heads, params_per_kv_head))\n",
    "            kv_head_perm_idxs = get_perm_idxs(n_kv_heads)\n",
    "            kv_perm_idxs = kv_idxs[kv_head_perm_idxs, :].reshape(-1)\n",
    "\n",
    "            q_idxs = torch.arange(embed_dim, dtype=int).reshape((n_kv_heads, group_size, params_per_kv_head))\n",
    "            q_idxs = q_idxs[kv_head_perm_idxs, :, :].reshape(-1)\n",
    "\n",
    "            sd_perm[q_proj_weight_key] = sd_perm[q_proj_weight_key][q_idxs, ...]\n",
    "            sd_perm[k_proj_weight_key] = sd_perm[k_proj_weight_key][kv_perm_idxs, ...]\n",
    "            sd_perm[v_proj_weight_key] = sd_perm[v_proj_weight_key][kv_perm_idxs, ...]\n",
    "            sd_perm[o_proj_weight_key] = sd_perm[o_proj_weight_key][..., q_idxs]\n",
    "\n",
    "        else:\n",
    "            idxs = torch.arange(embed_dim, dtype=int).reshape((num_heads, head_dim))\n",
    "            head_perm_idxs = get_perm_idxs(num_heads)\n",
    "            perm_idxs = idxs[head_perm_idxs, :].reshape(-1)\n",
    "\n",
    "            # # # Permute the weights\n",
    "            sd_perm[q_proj_weight_key] = sd_perm[q_proj_weight_key][perm_idxs, ...]\n",
    "            sd_perm[k_proj_weight_key] = sd_perm[k_proj_weight_key][perm_idxs, ...]\n",
    "            sd_perm[v_proj_weight_key] = sd_perm[v_proj_weight_key][perm_idxs, ...]\n",
    "            sd_perm[o_proj_weight_key] = sd_perm[o_proj_weight_key][..., perm_idxs]\n",
    "\n",
    "\n",
    "    if mlp_perm:\n",
    "        mlp_gate_weight_key = f\"{layer_name}.mlp.gate_proj.weight\"\n",
    "        mlp_up_proj_weight_key = f\"{layer_name}.mlp.up_proj.weight\"\n",
    "        mlp_down_proj_weight_key = f\"{layer_name}.mlp.down_proj.weight\"\n",
    "\n",
    "        gate_hidden_dim, _ = sd_perm[mlp_gate_weight_key].shape\n",
    "        perm_idxs_mlp = get_perm_idxs(gate_hidden_dim)\n",
    "        sd_perm[mlp_gate_weight_key] = sd_perm[mlp_gate_weight_key][perm_idxs_mlp, ...]\n",
    "        sd_perm[mlp_up_proj_weight_key] = sd_perm[mlp_up_proj_weight_key][perm_idxs_mlp, ...]\n",
    "        sd_perm[mlp_down_proj_weight_key] = sd_perm[mlp_down_proj_weight_key][..., perm_idxs_mlp]\n",
    "\n",
    "    return sd_perm\n",
    "\n",
    "def permute_llama2_all_layers(sd,layers= range(0, 32),inplace:bool=False):\n",
    "    if inplace:\n",
    "        sd_perm = sd\n",
    "    else:\n",
    "        sd_perm = copy.deepcopy(sd)\n",
    "\n",
    "    for i in layers:\n",
    "        layer_name = f\"model.layers.{i}\"\n",
    "        permute_llama2_layer(sd_perm, layer_name=layer_name, inplace=True)\n",
    "\n",
    "    return sd_perm\n",
    "\n",
    "sd_orig = copy.deepcopy(model.to('cpu').state_dict())\n",
    "sd_perm = permute_llama2_all_layers(sd_orig, layers=range(0, 16), inplace=False)"
   ]
  },
  {
   "cell_type": "code",
   "execution_count": 3,
   "id": "b254f52e",
   "metadata": {},
   "outputs": [
    {
     "name": "stderr",
     "output_type": "stream",
     "text": [
      "6it [00:01,  3.41it/s]                       \n"
     ]
    },
    {
     "name": "stdout",
     "output_type": "stream",
     "text": [
      "Results for original model: {'exact_match': 0.0, 'f1': 16.58730158730159}\n"
     ]
    },
    {
     "name": "stderr",
     "output_type": "stream",
     "text": [
      "6it [00:00,  7.65it/s]                       "
     ]
    },
    {
     "name": "stdout",
     "output_type": "stream",
     "text": [
      "Results for permuted model: {'exact_match': 0.0, 'f1': 0.0}\n"
     ]
    },
    {
     "name": "stderr",
     "output_type": "stream",
     "text": [
      "\n"
     ]
    }
   ],
   "source": [
    "from notebook_utils import *\n",
    "\n",
    "model.load_state_dict(sd_orig)\n",
    "results_orig = eval_on_sqad_ds(model, tokenizer)\n",
    "print(f\"Results for original model: {results_orig}\")\n",
    "# Results for original model: {'exact_match': 0.0, 'f1': 28.052425969092635}\n",
    "\n",
    "model.load_state_dict(sd_perm)\n",
    "results_perm = eval_on_sqad_ds(model, tokenizer)\n",
    "# model.load_state_dict(sd_orig)\n",
    "\n",
    "print(f\"Results for permuted model: {results_perm}\")"
   ]
  },
  {
   "cell_type": "code",
   "execution_count": null,
   "id": "3e4c9fb2",
   "metadata": {},
   "outputs": [
    {
     "name": "stdout",
     "output_type": "stream",
     "text": [
      "Number of weights: 1498482688\n",
      "Number of changed weights: 889112217\n",
      "Percentage of changed weights: 59.33%\n"
     ]
    }
   ],
   "source": [
    "def extract_weights_sd(sd):\n",
    "    ws = [w.cpu().detach().flatten() for w in sd.values()]\n",
    "    w = torch.concatenate(ws)\n",
    "\n",
    "    return w\n",
    "\n",
    "def compare_sds(sd_orig, sd_perm):\n",
    "    n_weights = 0\n",
    "    for k, v in sd_orig.items():\n",
    "        n_weights += v.numel()\n",
    "    n_changed_w = 0\n",
    "    for k, v in sd_orig.items():\n",
    "        n_changed_w += torch.sum(sd_orig[k] != sd_perm[k]).item()\n",
    "    \n",
    "    return n_weights, n_changed_w\n",
    "\n",
    "n_weights, n_changed_w = compare_sds(sd_orig, sd_perm)\n",
    "\n",
    "# print(f\"Model: {model_name}\")\n",
    "print(f\"Number of weights: {n_weights}\")\n",
    "print(f\"Number of changed weights: {n_changed_w}\")\n",
    "print(f\"Percentage of changed weights: {n_changed_w / n_weights:.2%}\")"
   ]
  }
 ],
 "metadata": {
  "kernelspec": {
   "display_name": "Python 3",
   "language": "python",
   "name": "python3"
  },
  "language_info": {
   "codemirror_mode": {
    "name": "ipython",
    "version": 3
   },
   "file_extension": ".py",
   "mimetype": "text/x-python",
   "name": "python",
   "nbconvert_exporter": "python",
   "pygments_lexer": "ipython3",
   "version": "3.9.18"
  }
 },
 "nbformat": 4,
 "nbformat_minor": 5
}
